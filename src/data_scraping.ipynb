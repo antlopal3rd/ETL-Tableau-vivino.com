{
 "cells": [
  {
   "cell_type": "code",
   "execution_count": 1,
   "id": "84b272ac",
   "metadata": {},
   "outputs": [],
   "source": [
    "with open('../data/wine_links_0_to_6.txt', 'r') as a, open('../data/wine_links_6_to_7.txt', 'r') as b, open('../data/wine_links_7_to_8.txt', 'r') as c, open('../data/wine_links_8_to_9.txt', 'r') as d, open('../data/wine_links_9_to_11.txt', 'r') as e, open('../data/wine_links_11_to_12.txt', 'r') as f, open('../data/wine_links_12_to_15.txt', 'r') as g, open('../data/wine_links_15_to_16.txt', 'r') as h, open('../data/wine_links_16_to_20.txt', 'r') as i, open('../data/wine_links_20_to_21.txt', 'r') as j, open('../data/wine_links_21_to_30.txt', 'r') as k, open('../data/wine_links_30_to_60.txt', 'r') as l, open('../data/wine_links_60_to_500plus.txt', 'r') as m:\n",
    "    \n",
    "    links = a.readlines()+b.readlines()+c.readlines()+d.readlines()+e.readlines()+f.readlines()+g.readlines()+h.readlines()+i.readlines()+j.readlines()+k.readlines()+l.readlines()+m.readlines()"
   ]
  },
  {
   "cell_type": "code",
   "execution_count": 2,
   "id": "79092201",
   "metadata": {},
   "outputs": [
    {
     "data": {
      "text/plain": [
       "12588"
      ]
     },
     "execution_count": 2,
     "metadata": {},
     "output_type": "execute_result"
    }
   ],
   "source": [
    "len(links)"
   ]
  },
  {
   "cell_type": "code",
   "execution_count": 3,
   "id": "7f96f6be",
   "metadata": {},
   "outputs": [],
   "source": [
    "links = [link.replace(\"\\n\", \"\") for link in links]"
   ]
  },
  {
   "cell_type": "code",
   "execution_count": 4,
   "id": "98538a82",
   "metadata": {},
   "outputs": [],
   "source": [
    "links = [link for link in links if \"https://www.vivino.com\" in link]"
   ]
  },
  {
   "cell_type": "code",
   "execution_count": 5,
   "id": "47f005dd",
   "metadata": {},
   "outputs": [],
   "source": [
    "from selenium import webdriver\n",
    "\n",
    "from selenium.webdriver.chrome.options import Options\n",
    "from webdriver_manager.chrome import ChromeDriverManager\n",
    "from selenium.webdriver.common.by import By\n",
    "from selenium.webdriver.common.keys import Keys\n",
    "\n",
    "import time"
   ]
  },
  {
   "cell_type": "code",
   "execution_count": 6,
   "id": "7c57c674",
   "metadata": {},
   "outputs": [],
   "source": [
    "#driver configuration\n",
    "opciones=Options()\n",
    "\n",
    "opciones.add_experimental_option('excludeSwitches', ['enable-automation'])\n",
    "opciones.add_experimental_option('useAutomationExtension', False)\n",
    "opciones.headless=False    # si True, no aperece la ventana (headless=no visible)\n",
    "opciones.add_argument('--start-maximized')         # comienza maximizado\n",
    "#opciones.add_argument('user-data-dir=selenium')    # mantiene las cookies\n",
    "#opciones.add_extension('driver_folder/adblock.crx')       # adblocker\n",
    "opciones.add_argument('--incognito')"
   ]
  },
  {
   "cell_type": "code",
   "execution_count": 7,
   "id": "3788f519",
   "metadata": {},
   "outputs": [
    {
     "name": "stderr",
     "output_type": "stream",
     "text": [
      "C:\\Users\\eloyl\\AppData\\Local\\Temp\\ipykernel_11224\\2256630989.py:3: DeprecationWarning: executable_path has been deprecated, please pass in a Service object\n",
      "  driver = webdriver.Chrome(PATH,options = opciones)\n"
     ]
    }
   ],
   "source": [
    "PATH=ChromeDriverManager().install()\n",
    "\n",
    "driver = webdriver.Chrome(PATH,options = opciones)"
   ]
  },
  {
   "cell_type": "code",
   "execution_count": 8,
   "id": "fdbae139",
   "metadata": {},
   "outputs": [],
   "source": [
    "complete_data = []"
   ]
  },
  {
   "cell_type": "code",
   "execution_count": 9,
   "id": "eccf5902",
   "metadata": {},
   "outputs": [],
   "source": [
    "def data_from_links(url):\n",
    "    try:\n",
    "        # start driver \n",
    "        driver=webdriver.Chrome(PATH, options= opciones)\n",
    "        driver.get(url)\n",
    "\n",
    "        time.sleep(4)\n",
    "    \n",
    "        #cookies banner selection\n",
    "        btn_cookie = driver.find_element(By.XPATH, '//*[@id=\"cookie-notice-container\"]/div/button')\n",
    "        #cookie banner click\n",
    "        btn_cookie.click()\n",
    "    \n",
    "        time.sleep(3)\n",
    "        \n",
    "        #end page\n",
    "        driver.find_element(By.XPATH,'//body').send_keys(Keys.END)\n",
    "        time.sleep(1)\n",
    "        driver.find_element(By.XPATH,'//body').send_keys(Keys.END)\n",
    "        time.sleep(1)\n",
    "        driver.find_element(By.XPATH,'//body').send_keys(Keys.END)\n",
    "        time.sleep(1)\n",
    "        driver.find_element(By.XPATH,'//body').send_keys(Keys.END)\n",
    "        time.sleep(1)\n",
    "        driver.find_element(By.XPATH,'//body').send_keys(Keys.END)\n",
    "        time.sleep(1)\n",
    "        \n",
    "        #data\n",
    "        top_web = driver.find_element(By.XPATH, '/html/body/div[2]/div[5]/div/div/div[2]')\n",
    "        wine = [i.text for i in top_web.find_elements(By.TAG_NAME, \"a\")]\n",
    "\n",
    "        #save data to variables\n",
    "        \n",
    "        bodega = driver.find_element(By.CLASS_NAME, \"row.header.breadCrumbs\").text.split(\"\\n\")[0]\n",
    "        \n",
    "        nombre = driver.find_element(By.CLASS_NAME, \"row.header.breadCrumbs\").text.split(\"\\n\")[1]\n",
    "        \n",
    "        valoracion = [i for i in wine if \"valoraciones\" in i][0].split(\"\\n\")[0]\n",
    "        \n",
    "        num_valoraciones = [i for i in wine if \"valoraciones\" in i][0].split(\"\\n\")[1].split(\" \")[0]\n",
    "        \n",
    "        precio = [i for i in driver.find_element(By.CLASS_NAME, \"vintageSelection\").text.split(\"\\n\") if \"€\" in i][0][1:]\n",
    "        if len(precio) > 6:\n",
    "            precio = None\n",
    "         \n",
    "        try:\n",
    "            año = url.split(\"?\")[1].split(\"&\")[0][-4:]\n",
    "        except:\n",
    "            año = None\n",
    "\n",
    "\n",
    "        zona = [i for i in [i.text for i in driver.find_elements(By.CSS_SELECTOR, \"tr\")] if \"Región\" in i][0].split(\"\\n\")[1]\n",
    "        \n",
    "        tipo = [i for i in wine if \"Vino\" in i][0]\n",
    "        \n",
    "        uva= [i for i in [i.text for i in driver.find_elements(By.CSS_SELECTOR, \"tr\")] if \"Uvas\" in i][0].split(\"\\n\")[1]\n",
    "        #save data to a dictionary and export\n",
    "        complete_data = {\n",
    "    \n",
    "        'winery': bodega,\n",
    "        'wine': nombre,\n",
    "        'year': año,\n",
    "        'rating': valoracion,\n",
    "        'num_review': num_valoraciones,\n",
    "        'region': zona,\n",
    "        'price': precio,\n",
    "        'type': tipo,\n",
    "        'grapes' : uva\n",
    "    \n",
    "        } \n",
    "    \n",
    "        return complete_data\n",
    "    except:\n",
    "        return url"
   ]
  },
  {
   "cell_type": "code",
   "execution_count": 10,
   "id": "94274a6c",
   "metadata": {},
   "outputs": [],
   "source": [
    "from joblib import Parallel, delayed\n",
    "\n",
    "import pandas as pd\n",
    "\n",
    "from tqdm.notebook import tqdm "
   ]
  },
  {
   "cell_type": "code",
   "execution_count": 13,
   "id": "22c51625",
   "metadata": {},
   "outputs": [
    {
     "data": {
      "text/plain": [
       "12213"
      ]
     },
     "execution_count": 13,
     "metadata": {},
     "output_type": "execute_result"
    }
   ],
   "source": [
    "len(links)"
   ]
  },
  {
   "cell_type": "code",
   "execution_count": 12,
   "id": "d8f53cb2",
   "metadata": {},
   "outputs": [],
   "source": [
    "links = list(set(links))"
   ]
  },
  {
   "cell_type": "code",
   "execution_count": null,
   "id": "d6c60310",
   "metadata": {},
   "outputs": [],
   "source": [
    "len(links)/2"
   ]
  },
  {
   "cell_type": "code",
   "execution_count": null,
   "id": "6ad158b8",
   "metadata": {},
   "outputs": [],
   "source": [
    "links1 = links[:1000]"
   ]
  },
  {
   "cell_type": "code",
   "execution_count": null,
   "id": "7d48c75c",
   "metadata": {},
   "outputs": [],
   "source": [
    "%%time\n",
    "data1 = []\n",
    "\n",
    "data1 = [Parallel(n_jobs=10, verbose=True)(delayed(data_from_links)(url) for url in tqdm(links1))]"
   ]
  },
  {
   "cell_type": "code",
   "execution_count": null,
   "id": "36b0bc2a",
   "metadata": {},
   "outputs": [],
   "source": [
    "data1 = data1[0]"
   ]
  },
  {
   "cell_type": "code",
   "execution_count": null,
   "id": "46c14a48",
   "metadata": {},
   "outputs": [],
   "source": [
    "data1"
   ]
  },
  {
   "cell_type": "code",
   "execution_count": null,
   "id": "8ecaf4ec",
   "metadata": {},
   "outputs": [],
   "source": [
    "len(data1)"
   ]
  },
  {
   "cell_type": "code",
   "execution_count": null,
   "id": "0216adcc",
   "metadata": {},
   "outputs": [],
   "source": [
    "missing_data1 = []\n",
    "for i in data1:\n",
    "    if len(i) > 9:\n",
    "        missing_data1.append(i)"
   ]
  },
  {
   "cell_type": "code",
   "execution_count": null,
   "id": "5cf57080",
   "metadata": {},
   "outputs": [],
   "source": [
    "missing_data1"
   ]
  },
  {
   "cell_type": "code",
   "execution_count": null,
   "id": "084fa164",
   "metadata": {},
   "outputs": [],
   "source": [
    "for i in data1:\n",
    "    if len(i) > 9:\n",
    "        data1.remove(i)"
   ]
  },
  {
   "cell_type": "code",
   "execution_count": null,
   "id": "9a0a6cfe",
   "metadata": {},
   "outputs": [],
   "source": [
    "for i in data1:\n",
    "    if len(i) > 9:\n",
    "        print(i)"
   ]
  },
  {
   "cell_type": "code",
   "execution_count": null,
   "id": "f0ede9e8",
   "metadata": {},
   "outputs": [],
   "source": [
    "for i in data1:\n",
    "    if len(i) > 9:\n",
    "        data1.remove(i)"
   ]
  },
  {
   "cell_type": "code",
   "execution_count": null,
   "id": "8842fde1",
   "metadata": {},
   "outputs": [],
   "source": [
    "df_wines1 = pd.DataFrame(data1)"
   ]
  },
  {
   "cell_type": "code",
   "execution_count": null,
   "id": "8f464dca",
   "metadata": {},
   "outputs": [],
   "source": [
    "df_wines1.to_csv('../data/allwines1.csv',index=False, header=True)"
   ]
  },
  {
   "cell_type": "code",
   "execution_count": null,
   "id": "67b7efd8",
   "metadata": {},
   "outputs": [],
   "source": [
    "links2 = links[1000:1300]"
   ]
  },
  {
   "cell_type": "code",
   "execution_count": null,
   "id": "cbc5783e",
   "metadata": {},
   "outputs": [],
   "source": [
    "%%time\n",
    "data2 = []\n",
    "\n",
    "data2 = [Parallel(n_jobs=10, verbose=True)(delayed(data_from_links)(url) for url in tqdm(links2))]"
   ]
  },
  {
   "cell_type": "code",
   "execution_count": null,
   "id": "ec5995f9",
   "metadata": {},
   "outputs": [],
   "source": [
    "data2 = data2[0]"
   ]
  },
  {
   "cell_type": "code",
   "execution_count": null,
   "id": "ab0d18f4",
   "metadata": {},
   "outputs": [],
   "source": [
    "for i in data2:\n",
    "    if len(i) > 9:\n",
    "        print(i)"
   ]
  },
  {
   "cell_type": "code",
   "execution_count": null,
   "id": "f6c929ee",
   "metadata": {},
   "outputs": [],
   "source": [
    "for i in data2:\n",
    "    if len(i) > 9:\n",
    "        missing_data1.append(i)"
   ]
  },
  {
   "cell_type": "code",
   "execution_count": null,
   "id": "635129a8",
   "metadata": {},
   "outputs": [],
   "source": [
    "for i in data2:\n",
    "    if len(i) > 9:\n",
    "        data2.remove(i)"
   ]
  },
  {
   "cell_type": "code",
   "execution_count": null,
   "id": "f20d1699",
   "metadata": {},
   "outputs": [],
   "source": [
    "df_wines2 = pd.DataFrame(data2)"
   ]
  },
  {
   "cell_type": "code",
   "execution_count": null,
   "id": "750830e4",
   "metadata": {},
   "outputs": [],
   "source": [
    "df_wines2.to_csv('../data/allwines2.csv',index=False, header=True)"
   ]
  },
  {
   "cell_type": "code",
   "execution_count": null,
   "id": "3f042050",
   "metadata": {},
   "outputs": [],
   "source": [
    "missing_data1"
   ]
  },
  {
   "cell_type": "code",
   "execution_count": null,
   "id": "0cb084da",
   "metadata": {},
   "outputs": [],
   "source": [
    "links3 = links[1300:2300]"
   ]
  },
  {
   "cell_type": "code",
   "execution_count": null,
   "id": "ea93301a",
   "metadata": {},
   "outputs": [],
   "source": [
    "%%time\n",
    "data3 = []\n",
    "\n",
    "data3 = [Parallel(n_jobs=10, verbose=True)(delayed(data_from_links)(url) for url in tqdm(links3))]"
   ]
  },
  {
   "cell_type": "code",
   "execution_count": null,
   "id": "2ffd2d3d",
   "metadata": {},
   "outputs": [],
   "source": [
    "data3 = data3[0]"
   ]
  },
  {
   "cell_type": "code",
   "execution_count": null,
   "id": "ad7455ea",
   "metadata": {},
   "outputs": [],
   "source": [
    "for i in data3:\n",
    "    if len(i) > 9:\n",
    "        print(i)"
   ]
  },
  {
   "cell_type": "code",
   "execution_count": null,
   "id": "ad2c8bcc",
   "metadata": {},
   "outputs": [],
   "source": [
    "for i in data3:\n",
    "    if len(i) > 9:\n",
    "        missing_data1.append(i)"
   ]
  },
  {
   "cell_type": "code",
   "execution_count": null,
   "id": "a3da4dd7",
   "metadata": {},
   "outputs": [],
   "source": [
    "len(missing_data1)"
   ]
  },
  {
   "cell_type": "code",
   "execution_count": null,
   "id": "a2fbf30a",
   "metadata": {},
   "outputs": [],
   "source": [
    "for i in data3:\n",
    "    if len(i) > 9:\n",
    "        data3.remove(i)"
   ]
  },
  {
   "cell_type": "code",
   "execution_count": null,
   "id": "d2d5991b",
   "metadata": {},
   "outputs": [],
   "source": [
    "df_wines3 = pd.DataFrame(data3)"
   ]
  },
  {
   "cell_type": "code",
   "execution_count": null,
   "id": "2df6055f",
   "metadata": {},
   "outputs": [],
   "source": [
    "df_wines3.to_csv('../data/allwines3.csv',index=False, header=True)"
   ]
  },
  {
   "cell_type": "code",
   "execution_count": null,
   "id": "c7b46b40",
   "metadata": {},
   "outputs": [],
   "source": [
    "with open(\"../data/missing_values.txt\", \"w\") as m:\n",
    "    for line in missing_data1:\n",
    "        m.write(line + \"\\n\")"
   ]
  },
  {
   "cell_type": "code",
   "execution_count": null,
   "id": "271f4715",
   "metadata": {},
   "outputs": [],
   "source": [
    "links4 = links[2300:3300]"
   ]
  },
  {
   "cell_type": "code",
   "execution_count": null,
   "id": "c92f29ba",
   "metadata": {},
   "outputs": [],
   "source": [
    "%%time\n",
    "data4 = []\n",
    "\n",
    "data4 = [Parallel(n_jobs=10, verbose=True)(delayed(data_from_links)(url) for url in tqdm(links4))]"
   ]
  },
  {
   "cell_type": "code",
   "execution_count": null,
   "id": "1044b381",
   "metadata": {},
   "outputs": [],
   "source": [
    "data4 = data4[0]"
   ]
  },
  {
   "cell_type": "code",
   "execution_count": null,
   "id": "fb9e9f20",
   "metadata": {},
   "outputs": [],
   "source": [
    "for i in data4:\n",
    "    if len(i) > 9:\n",
    "        print(i)"
   ]
  },
  {
   "cell_type": "code",
   "execution_count": null,
   "id": "9f055816",
   "metadata": {},
   "outputs": [],
   "source": [
    "for i in data4:\n",
    "    if len(i) > 9:\n",
    "        missing_data1.append(i)"
   ]
  },
  {
   "cell_type": "code",
   "execution_count": null,
   "id": "b1ad4653",
   "metadata": {},
   "outputs": [],
   "source": [
    "for i in data4:\n",
    "    if len(i) > 9:\n",
    "        data4.remove(i)"
   ]
  },
  {
   "cell_type": "code",
   "execution_count": null,
   "id": "c920e63a",
   "metadata": {},
   "outputs": [],
   "source": [
    "df_wines4 = pd.DataFrame(data4)"
   ]
  },
  {
   "cell_type": "code",
   "execution_count": null,
   "id": "ce8394c9",
   "metadata": {},
   "outputs": [],
   "source": [
    "df_wines4.to_csv('../data/allwines4.csv',index=False, header=True)"
   ]
  },
  {
   "cell_type": "code",
   "execution_count": null,
   "id": "a90d13ce",
   "metadata": {},
   "outputs": [],
   "source": [
    "len(missing_data1)"
   ]
  },
  {
   "cell_type": "code",
   "execution_count": null,
   "id": "a92b4c4f",
   "metadata": {},
   "outputs": [],
   "source": [
    "links5 = links[3300:3800]"
   ]
  },
  {
   "cell_type": "code",
   "execution_count": null,
   "id": "ffc9c5eb",
   "metadata": {},
   "outputs": [],
   "source": [
    "%%time\n",
    "data5 = []\n",
    "\n",
    "data5 = [Parallel(n_jobs=10, verbose=True)(delayed(data_from_links)(url) for url in tqdm(links5))]"
   ]
  },
  {
   "cell_type": "code",
   "execution_count": null,
   "id": "580bafdc",
   "metadata": {},
   "outputs": [],
   "source": [
    "data5 = data5[0]"
   ]
  },
  {
   "cell_type": "code",
   "execution_count": null,
   "id": "c91e0cb6",
   "metadata": {},
   "outputs": [],
   "source": [
    "for i in data5:\n",
    "    if len(i) > 9:\n",
    "        print(i)"
   ]
  },
  {
   "cell_type": "code",
   "execution_count": null,
   "id": "6da4a6e7",
   "metadata": {},
   "outputs": [],
   "source": [
    "for i in data5:\n",
    "    if len(i) > 9:\n",
    "        missing_data1.append(i)"
   ]
  },
  {
   "cell_type": "code",
   "execution_count": null,
   "id": "2bb25bd2",
   "metadata": {},
   "outputs": [],
   "source": [
    "for i in data5:\n",
    "    if len(i) > 9:\n",
    "        data5.remove(i)"
   ]
  },
  {
   "cell_type": "code",
   "execution_count": null,
   "id": "c8b8503d",
   "metadata": {},
   "outputs": [],
   "source": [
    "df_wines5 = pd.DataFrame(data5)"
   ]
  },
  {
   "cell_type": "code",
   "execution_count": null,
   "id": "fa1a3d29",
   "metadata": {},
   "outputs": [],
   "source": [
    "df_wines5.to_csv('../data/allwines5.csv',index=False, header=True)"
   ]
  },
  {
   "cell_type": "code",
   "execution_count": null,
   "id": "aba51ca8",
   "metadata": {},
   "outputs": [],
   "source": [
    "with open(\"../data/missing_values2.txt\", \"w\") as m:\n",
    "    for line in missing_data1:\n",
    "        m.write(line + \"\\n\")"
   ]
  },
  {
   "cell_type": "code",
   "execution_count": null,
   "id": "6b06ee77",
   "metadata": {},
   "outputs": [],
   "source": [
    "len(missing_data1)"
   ]
  },
  {
   "cell_type": "code",
   "execution_count": null,
   "id": "60a230ab",
   "metadata": {},
   "outputs": [],
   "source": [
    "len(links)"
   ]
  },
  {
   "cell_type": "code",
   "execution_count": 7,
   "id": "ee5a283d",
   "metadata": {},
   "outputs": [],
   "source": [
    "links6 = links[3800:5800]"
   ]
  },
  {
   "cell_type": "code",
   "execution_count": 15,
   "id": "8909abcf",
   "metadata": {},
   "outputs": [
    {
     "data": {
      "application/json": {
       "ascii": false,
       "bar_format": null,
       "colour": null,
       "elapsed": 0.012802362442016602,
       "initial": 0,
       "n": 0,
       "ncols": null,
       "nrows": 29,
       "postfix": null,
       "prefix": "",
       "rate": null,
       "total": 2000,
       "unit": "it",
       "unit_divisor": 1000,
       "unit_scale": false
      },
      "application/vnd.jupyter.widget-view+json": {
       "model_id": "f7ebeb1924ff45efa8c99fd098e9d0b1",
       "version_major": 2,
       "version_minor": 0
      },
      "text/plain": [
       "  0%|          | 0/2000 [00:00<?, ?it/s]"
      ]
     },
     "metadata": {},
     "output_type": "display_data"
    },
    {
     "name": "stderr",
     "output_type": "stream",
     "text": [
      "[Parallel(n_jobs=8)]: Using backend LokyBackend with 8 concurrent workers.\n",
      "[Parallel(n_jobs=8)]: Done  34 tasks      | elapsed:  1.9min\n",
      "[Parallel(n_jobs=8)]: Done 184 tasks      | elapsed:  7.8min\n",
      "[Parallel(n_jobs=8)]: Done 434 tasks      | elapsed: 18.4min\n",
      "[Parallel(n_jobs=8)]: Done 784 tasks      | elapsed: 33.6min\n",
      "[Parallel(n_jobs=8)]: Done 1234 tasks      | elapsed: 51.6min\n",
      "[Parallel(n_jobs=8)]: Done 1784 tasks      | elapsed: 73.6min\n"
     ]
    },
    {
     "name": "stdout",
     "output_type": "stream",
     "text": [
      "CPU times: total: 5.33 s\n",
      "Wall time: 1h 21min 58s\n"
     ]
    },
    {
     "name": "stderr",
     "output_type": "stream",
     "text": [
      "[Parallel(n_jobs=8)]: Done 2000 out of 2000 | elapsed: 82.0min finished\n"
     ]
    }
   ],
   "source": [
    "%%time\n",
    "data6 = []\n",
    "\n",
    "data6 = [Parallel(n_jobs=8, verbose=True)(delayed(data_from_links)(url) for url in tqdm(links6))]"
   ]
  },
  {
   "cell_type": "code",
   "execution_count": 16,
   "id": "b1897b2e",
   "metadata": {},
   "outputs": [],
   "source": [
    "data6 = data6[0]"
   ]
  },
  {
   "cell_type": "code",
   "execution_count": 26,
   "id": "3cd9e671",
   "metadata": {},
   "outputs": [],
   "source": [
    "for i in data6:\n",
    "    if len(i) > 9:\n",
    "        print(i)"
   ]
  },
  {
   "cell_type": "code",
   "execution_count": 18,
   "id": "e5f77b59",
   "metadata": {},
   "outputs": [],
   "source": [
    "missing_data = []"
   ]
  },
  {
   "cell_type": "code",
   "execution_count": 19,
   "id": "34571d84",
   "metadata": {},
   "outputs": [],
   "source": [
    "for i in data6:\n",
    "    if len(i) > 9:\n",
    "        missing_data.append(i)"
   ]
  },
  {
   "cell_type": "code",
   "execution_count": 20,
   "id": "15ac2352",
   "metadata": {},
   "outputs": [
    {
     "data": {
      "text/plain": [
       "['https://www.vivino.com/ES/es/algueira-serradelo/w/6664393?year=2015&price_id=19941387',\n",
       " 'https://www.vivino.com/ES/es/perinet-likka/w/9132860?year=2018&price_id=25664639',\n",
       " 'https://www.vivino.com/ES/es/garriguella-emporda-puntils/w/1878834?year=2019&price_id=23154377',\n",
       " 'https://www.vivino.com/toplists/top-25-spanish-pedro-ximenez-wines-spain-right-now-spain',\n",
       " 'https://www.vivino.com/ES/es/alta-alella-bruant/w/4023543?year=2018&price_id=23260601',\n",
       " 'https://www.vivino.com/ES/es/algueira-anadelia-ribeira-sacra/w/5916679?year=2015&price_id=18216567',\n",
       " 'https://www.vivino.com/ES/es/fuentenarro-esenzias-18-meses-en-barrica-de-roble-frances/w/7118794?year=2018&price_id=26239454',\n",
       " 'https://www.vivino.com/ES/es/bodega-can-verdura-supernova-mantonegro-negre/w/5812908?year=2020&price_id=27224672',\n",
       " 'https://www.vivino.com/ES/es/jose-pariente-finca-las-comas-verdejo/w/7273309?year=2016&price_id=19360246',\n",
       " 'https://www.vivino.com/ES/es/real-divisa-marques-de-legarda-crianza/w/1396841?year=2017&price_id=27022772',\n",
       " 'https://www.vivino.com/ES/es/valdepalacios-crianza/w/1291469?year=2016&price_id=27875930',\n",
       " 'https://www.vivino.com/ES/es/monte-real-la-rioja-reserva/w/1576642?year=2015&price_id=23557176',\n",
       " 'https://www.vivino.com/ES/es/dos-deus-vermouth/w/2389883?price_id=25621953',\n",
       " 'https://www.vivino.com/ES/es/bodegas-martin-codax-alma-atlantica-mencia-rose/w/3951990?price_id=30062864',\n",
       " 'https://www.vivino.com/ES/es/barbadillo-ataman-inquina/w/5778297?price_id=28863149',\n",
       " 'https://www.vivino.com/ES/es/alvaro-palacios-finca-dofi/w/67084?year=2003&price_id=20340790',\n",
       " 'https://www.vivino.com/ES/es/bodegas-mauro-godello-blanco/w/3129436?year=2017&price_id=17268881',\n",
       " 'https://www.vivino.com/ES/es/bodegas-san-roman-cartago-paraje-de-pozo-toro/w/5406439?year=2016&price_id=29479696',\n",
       " 'https://www.vivino.com/ES/es/bodegas-arrocal-ac-ribera-del-duero-roble/w/1172666?year=2019&price_id=23223619',\n",
       " 'https://www.vivino.com/ES/es/habla-habla-del-mar-t499d/w/6611009?year=2018&price_id=20340541',\n",
       " 'https://www.vivino.com/ES/es/can-matons-pansa-blanca/w/10162691?year=2021&price_id=29351883',\n",
       " 'https://www.vivino.com/ES/es/es-de-muller-pinot-noir-blanc-de-noirs-brut-nature-reserva/w/2096456?price_id=16736748',\n",
       " 'https://www.vivino.com/ES/es/vizcarra-alejandra/w/8497794?year=2019&price_id=24818676',\n",
       " 'https://www.vivino.com/ES/es/prieto-pariente-confines-garnacha/w/5333915?year=2015&price_id=15178044',\n",
       " 'https://www.vivino.com/ES/es/farina-toro-campus-gothorum-toro/w/8028945?year=2017&price_id=26869937',\n",
       " 'https://www.vivino.com/ES/es/finca-millara-el-prohibido/w/4504880?year=2014&price_id=11622603',\n",
       " 'https://www.vivino.com/ES/es/bodegas-principe-de-viana-fourteen-twentythree-reserva-navarra/w/74756?year=2016&price_id=27753251',\n",
       " 'https://www.vivino.com/ES/es/valduero-bodegas-y-vinedo-ribera-del-duero-gran-reserva/w/23111?year=2011&price_id=23960270',\n",
       " 'https://www.vivino.com/ES/es/bodegas-cesar-florido-cruz-del-mar-oloroso/w/2213212?price_id=25295029',\n",
       " 'https://www.vivino.com/ES/es/pago-los-balancines-gold-crianza/w/7414508?year=2017&price_id=26215465',\n",
       " 'https://www.vivino.com/ES/es/attis-attis-embaixador-albarino/w/4995987?year=2019&price_id=29219765',\n",
       " 'https://www.vivino.com/ES/es/palacio-de-bornos-sauvignon-blanc/w/1786259?year=2020&price_id=27003875',\n",
       " 'https://www.vivino.com/ES/es/sumarroca-chardonnay/w/2175261?year=2020&price_id=25441002',\n",
       " 'https://www.vivino.com/ES/es/abadia-retuerta-pago-garduna/w/73591?year=2015&price_id=16513336',\n",
       " 'https://www.vivino.com/ES/es/bodegas-martin-codax-alma-atlantica-sangria-rias-baixas/w/6622034?price_id=22476900',\n",
       " 'https://www.vivino.com/ES/es/bodega-negon-gonzales-negon/w/5375262?year=2013&price_id=27519023',\n",
       " 'https://www.vivino.com/toplists/top-25-spanish-sauvignon-blanc-wines-spain-right-now-spain',\n",
       " 'https://www.vivino.com/ES/es/pascona-montsant-baronia-d-entenga-falset-garnatxa-carinyena/w/4326191?year=2017&price_id=23353610',\n",
       " 'https://www.vivino.com/ES/es/lambuena-roble-ribera-del-duero/w/4248496?year=2019&price_id=29986222']"
      ]
     },
     "execution_count": 20,
     "metadata": {},
     "output_type": "execute_result"
    }
   ],
   "source": [
    "missing_data"
   ]
  },
  {
   "cell_type": "code",
   "execution_count": 25,
   "id": "8cfb7909",
   "metadata": {},
   "outputs": [],
   "source": [
    "for i in data6:\n",
    "    if len(i) > 9:\n",
    "        data6.remove(i)"
   ]
  },
  {
   "cell_type": "code",
   "execution_count": 27,
   "id": "bd4d26c8",
   "metadata": {},
   "outputs": [],
   "source": [
    "df_wines6 = pd.DataFrame(data6)"
   ]
  },
  {
   "cell_type": "code",
   "execution_count": 28,
   "id": "1d52447b",
   "metadata": {},
   "outputs": [],
   "source": [
    "df_wines6.to_csv('../data/allwines6.csv',index=False, header=True)"
   ]
  },
  {
   "cell_type": "code",
   "execution_count": 29,
   "id": "3c7bd00e",
   "metadata": {},
   "outputs": [],
   "source": [
    "with open(\"../data/missing_values3.txt\", \"w\") as m:\n",
    "    for line in missing_data:\n",
    "        m.write(line + \"\\n\")"
   ]
  },
  {
   "cell_type": "code",
   "execution_count": 14,
   "id": "49ed55d2",
   "metadata": {},
   "outputs": [],
   "source": [
    "links7 = links[5800:6800]"
   ]
  },
  {
   "cell_type": "code",
   "execution_count": 15,
   "id": "aaf996f1",
   "metadata": {},
   "outputs": [
    {
     "data": {
      "text/plain": [
       "1000"
      ]
     },
     "execution_count": 15,
     "metadata": {},
     "output_type": "execute_result"
    }
   ],
   "source": [
    "len(links7)"
   ]
  },
  {
   "cell_type": "code",
   "execution_count": 16,
   "id": "9c9ecba5",
   "metadata": {},
   "outputs": [
    {
     "data": {
      "application/json": {
       "ascii": false,
       "bar_format": null,
       "colour": null,
       "elapsed": 0.014002084732055664,
       "initial": 0,
       "n": 0,
       "ncols": null,
       "nrows": 29,
       "postfix": null,
       "prefix": "",
       "rate": null,
       "total": 1000,
       "unit": "it",
       "unit_divisor": 1000,
       "unit_scale": false
      },
      "application/vnd.jupyter.widget-view+json": {
       "model_id": "c0462d761d114ed4b668a1cf26b151c7",
       "version_major": 2,
       "version_minor": 0
      },
      "text/plain": [
       "  0%|          | 0/1000 [00:00<?, ?it/s]"
      ]
     },
     "metadata": {},
     "output_type": "display_data"
    },
    {
     "name": "stderr",
     "output_type": "stream",
     "text": [
      "[Parallel(n_jobs=12)]: Using backend LokyBackend with 12 concurrent workers.\n",
      "[Parallel(n_jobs=12)]: Done  26 tasks      | elapsed:  1.3min\n",
      "[Parallel(n_jobs=12)]: Done 176 tasks      | elapsed:  5.7min\n",
      "[Parallel(n_jobs=12)]: Done 426 tasks      | elapsed: 13.7min\n",
      "[Parallel(n_jobs=12)]: Done 776 tasks      | elapsed: 24.0min\n"
     ]
    },
    {
     "name": "stdout",
     "output_type": "stream",
     "text": [
      "CPU times: total: 3.7 s\n",
      "Wall time: 30min 38s\n"
     ]
    },
    {
     "name": "stderr",
     "output_type": "stream",
     "text": [
      "[Parallel(n_jobs=12)]: Done 1000 out of 1000 | elapsed: 30.6min finished\n"
     ]
    }
   ],
   "source": [
    "%%time\n",
    "data7 = []\n",
    "\n",
    "data7 = [Parallel(n_jobs=12, verbose=True)(delayed(data_from_links)(url) for url in tqdm(links7))]"
   ]
  },
  {
   "cell_type": "code",
   "execution_count": 17,
   "id": "dbcb958d",
   "metadata": {},
   "outputs": [],
   "source": [
    "data7 = data7[0]"
   ]
  },
  {
   "cell_type": "code",
   "execution_count": 27,
   "id": "4f234a99",
   "metadata": {
    "scrolled": true
   },
   "outputs": [],
   "source": [
    "for i in data7:\n",
    "    if len(i) > 9:\n",
    "        print(i)"
   ]
  },
  {
   "cell_type": "code",
   "execution_count": 20,
   "id": "74938130",
   "metadata": {},
   "outputs": [],
   "source": [
    "missing_data = []"
   ]
  },
  {
   "cell_type": "code",
   "execution_count": 21,
   "id": "cf58595d",
   "metadata": {},
   "outputs": [],
   "source": [
    "for i in data7:\n",
    "    if len(i) > 9:\n",
    "        missing_data.append(i)"
   ]
  },
  {
   "cell_type": "code",
   "execution_count": 26,
   "id": "cd71a2d5",
   "metadata": {},
   "outputs": [],
   "source": [
    "for i in data7:\n",
    "    if len(i) > 9:\n",
    "        data7.remove(i)"
   ]
  },
  {
   "cell_type": "code",
   "execution_count": 28,
   "id": "6f6656d5",
   "metadata": {},
   "outputs": [],
   "source": [
    "df_wines7 = pd.DataFrame(data7)"
   ]
  },
  {
   "cell_type": "code",
   "execution_count": 29,
   "id": "8bd77ce6",
   "metadata": {},
   "outputs": [],
   "source": [
    "df_wines7.to_csv('../data/allwines7.csv',index=False, header=True)"
   ]
  },
  {
   "cell_type": "code",
   "execution_count": 30,
   "id": "c3678e9c",
   "metadata": {},
   "outputs": [],
   "source": [
    "with open(\"../data/missing_values4.txt\", \"w\") as m:\n",
    "    for line in missing_data:\n",
    "        m.write(line + \"\\n\")"
   ]
  },
  {
   "cell_type": "code",
   "execution_count": 31,
   "id": "6eb52a36",
   "metadata": {},
   "outputs": [],
   "source": [
    "links8 = links[6800:7800]"
   ]
  },
  {
   "cell_type": "code",
   "execution_count": 32,
   "id": "400e2fe5",
   "metadata": {},
   "outputs": [
    {
     "data": {
      "application/json": {
       "ascii": false,
       "bar_format": null,
       "colour": null,
       "elapsed": 0.01400303840637207,
       "initial": 0,
       "n": 0,
       "ncols": null,
       "nrows": 29,
       "postfix": null,
       "prefix": "",
       "rate": null,
       "total": 1000,
       "unit": "it",
       "unit_divisor": 1000,
       "unit_scale": false
      },
      "application/vnd.jupyter.widget-view+json": {
       "model_id": "c7346e490bae462bb57955cbde0f3473",
       "version_major": 2,
       "version_minor": 0
      },
      "text/plain": [
       "  0%|          | 0/1000 [00:00<?, ?it/s]"
      ]
     },
     "metadata": {},
     "output_type": "display_data"
    },
    {
     "name": "stderr",
     "output_type": "stream",
     "text": [
      "[Parallel(n_jobs=12)]: Using backend LokyBackend with 12 concurrent workers.\n",
      "[Parallel(n_jobs=12)]: Done  26 tasks      | elapsed:  1.3min\n",
      "[Parallel(n_jobs=12)]: Done 176 tasks      | elapsed:  6.1min\n",
      "[Parallel(n_jobs=12)]: Done 426 tasks      | elapsed: 13.7min\n",
      "[Parallel(n_jobs=12)]: Done 776 tasks      | elapsed: 24.2min\n"
     ]
    },
    {
     "name": "stdout",
     "output_type": "stream",
     "text": [
      "CPU times: total: 4.05 s\n",
      "Wall time: 31min 3s\n"
     ]
    },
    {
     "name": "stderr",
     "output_type": "stream",
     "text": [
      "[Parallel(n_jobs=12)]: Done 1000 out of 1000 | elapsed: 31.1min finished\n"
     ]
    }
   ],
   "source": [
    "%%time\n",
    "data8 = []\n",
    "\n",
    "data8 = [Parallel(n_jobs=12, verbose=True)(delayed(data_from_links)(url) for url in tqdm(links8))]"
   ]
  },
  {
   "cell_type": "code",
   "execution_count": 33,
   "id": "a05c5ccf",
   "metadata": {},
   "outputs": [],
   "source": [
    "data8 = data8[0]"
   ]
  },
  {
   "cell_type": "code",
   "execution_count": 37,
   "id": "f743f512",
   "metadata": {},
   "outputs": [],
   "source": [
    "for i in data8:\n",
    "    if len(i) > 9:\n",
    "        print(i)"
   ]
  },
  {
   "cell_type": "code",
   "execution_count": 35,
   "id": "1beac0af",
   "metadata": {},
   "outputs": [],
   "source": [
    "for i in data8:\n",
    "    if len(i) > 9:\n",
    "        missing_data.append(i)"
   ]
  },
  {
   "cell_type": "code",
   "execution_count": 36,
   "id": "981fb519",
   "metadata": {},
   "outputs": [],
   "source": [
    "for i in data8:\n",
    "    if len(i) > 9:\n",
    "        data8.remove(i)"
   ]
  },
  {
   "cell_type": "code",
   "execution_count": 38,
   "id": "cac25fd4",
   "metadata": {},
   "outputs": [],
   "source": [
    "df_wines8 = pd.DataFrame(data8)"
   ]
  },
  {
   "cell_type": "code",
   "execution_count": 39,
   "id": "04517fd1",
   "metadata": {},
   "outputs": [],
   "source": [
    "df_wines8.to_csv('../data/allwines8.csv',index=False, header=True)"
   ]
  },
  {
   "cell_type": "code",
   "execution_count": 40,
   "id": "7cf34e1b",
   "metadata": {},
   "outputs": [],
   "source": [
    "with open(\"../data/missing_values4.txt\", \"w\") as m:\n",
    "    for line in missing_data:\n",
    "        m.write(line + \"\\n\")"
   ]
  },
  {
   "cell_type": "code",
   "execution_count": 42,
   "id": "56a47350",
   "metadata": {},
   "outputs": [],
   "source": [
    "links9 = links[7800:8800]"
   ]
  },
  {
   "cell_type": "code",
   "execution_count": 43,
   "id": "03dd90a2",
   "metadata": {},
   "outputs": [
    {
     "data": {
      "application/json": {
       "ascii": false,
       "bar_format": null,
       "colour": null,
       "elapsed": 0.019864797592163086,
       "initial": 0,
       "n": 0,
       "ncols": null,
       "nrows": 29,
       "postfix": null,
       "prefix": "",
       "rate": null,
       "total": 1000,
       "unit": "it",
       "unit_divisor": 1000,
       "unit_scale": false
      },
      "application/vnd.jupyter.widget-view+json": {
       "model_id": "0eccb0733cd14f1bbe4e093b460df3d1",
       "version_major": 2,
       "version_minor": 0
      },
      "text/plain": [
       "  0%|          | 0/1000 [00:00<?, ?it/s]"
      ]
     },
     "metadata": {},
     "output_type": "display_data"
    },
    {
     "name": "stderr",
     "output_type": "stream",
     "text": [
      "[Parallel(n_jobs=12)]: Using backend LokyBackend with 12 concurrent workers.\n",
      "[Parallel(n_jobs=12)]: Done  26 tasks      | elapsed:  1.3min\n",
      "[Parallel(n_jobs=12)]: Done 176 tasks      | elapsed:  6.4min\n",
      "[Parallel(n_jobs=12)]: Done 426 tasks      | elapsed: 14.2min\n",
      "[Parallel(n_jobs=12)]: Done 776 tasks      | elapsed: 25.1min\n"
     ]
    },
    {
     "name": "stdout",
     "output_type": "stream",
     "text": [
      "CPU times: total: 3.55 s\n",
      "Wall time: 32min 5s\n"
     ]
    },
    {
     "name": "stderr",
     "output_type": "stream",
     "text": [
      "[Parallel(n_jobs=12)]: Done 1000 out of 1000 | elapsed: 32.1min finished\n"
     ]
    }
   ],
   "source": [
    "%%time\n",
    "data9 = []\n",
    "\n",
    "data9 = [Parallel(n_jobs=12, verbose=True)(delayed(data_from_links)(url) for url in tqdm(links9))]"
   ]
  },
  {
   "cell_type": "code",
   "execution_count": 44,
   "id": "bbc96075",
   "metadata": {},
   "outputs": [],
   "source": [
    "data9 =data9[0]"
   ]
  },
  {
   "cell_type": "code",
   "execution_count": 52,
   "id": "5de01fb7",
   "metadata": {},
   "outputs": [],
   "source": [
    "for i in data9:\n",
    "    if len(i) > 9:\n",
    "        print(i)"
   ]
  },
  {
   "cell_type": "code",
   "execution_count": 46,
   "id": "9f715932",
   "metadata": {},
   "outputs": [],
   "source": [
    "for i in data9:\n",
    "    if len(i) > 9:\n",
    "        missing_data.append(i)"
   ]
  },
  {
   "cell_type": "code",
   "execution_count": 51,
   "id": "6253ebb2",
   "metadata": {},
   "outputs": [],
   "source": [
    "for i in data9:\n",
    "    if len(i) > 9:\n",
    "        data9.remove(i)"
   ]
  },
  {
   "cell_type": "code",
   "execution_count": 53,
   "id": "54c55140",
   "metadata": {},
   "outputs": [],
   "source": [
    "df_wines9 = pd.DataFrame(data9)"
   ]
  },
  {
   "cell_type": "code",
   "execution_count": 54,
   "id": "c60df092",
   "metadata": {},
   "outputs": [],
   "source": [
    "df_wines9.to_csv('../data/allwines9.csv',index=False, header=True)"
   ]
  },
  {
   "cell_type": "code",
   "execution_count": 55,
   "id": "995f3c6a",
   "metadata": {},
   "outputs": [],
   "source": [
    "with open(\"../data/missing_values4.txt\", \"w\") as m:\n",
    "    for line in missing_data:\n",
    "        m.write(line + \"\\n\")"
   ]
  }
 ],
 "metadata": {
  "kernelspec": {
   "display_name": "Python 3 (ipykernel)",
   "language": "python",
   "name": "python3"
  },
  "language_info": {
   "codemirror_mode": {
    "name": "ipython",
    "version": 3
   },
   "file_extension": ".py",
   "mimetype": "text/x-python",
   "name": "python",
   "nbconvert_exporter": "python",
   "pygments_lexer": "ipython3",
   "version": "3.8.13"
  }
 },
 "nbformat": 4,
 "nbformat_minor": 5
}
